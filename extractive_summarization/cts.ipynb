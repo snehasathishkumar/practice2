{
 "cells": [
  {
   "cell_type": "code",
   "execution_count": 1,
   "metadata": {},
   "outputs": [
    {
     "name": "stderr",
     "output_type": "stream",
     "text": [
      "c:\\Users\\99013031\\Desktop\\urlsumm\\.venv\\Lib\\site-packages\\tqdm\\auto.py:21: TqdmWarning: IProgress not found. Please update jupyter and ipywidgets. See https://ipywidgets.readthedocs.io/en/stable/user_install.html\n",
      "  from .autonotebook import tqdm as notebook_tqdm\n"
     ]
    }
   ],
   "source": [
    "import PyPDF2\n",
    "import google.generativeai as genai\n",
    "from dotenv import get_key\n",
    "from langchain_text_splitters import RecursiveCharacterTextSplitter\n",
    "from pathlib import Path"
   ]
  },
  {
   "cell_type": "code",
   "execution_count": null,
   "metadata": {},
   "outputs": [],
   "source": [
    "\n",
    "# def convertor(file_path, prompt, keywords):\n",
    "# def convertor(file_path):\n",
    "#     file_name = file_path.name\n",
    "\n",
    "#     my_file = Path(f\"./converted_content/{file_name}.txt\")\n",
    "#     if my_file.is_file():\n",
    "#         with open(f\"./converted_content/{file_name}.txt\", \"r\") as f:\n",
    "#             converted_text = f.read()\n",
    "#         return converted_text\n"
   ]
  },
  {
   "cell_type": "code",
   "execution_count": 2,
   "metadata": {},
   "outputs": [],
   "source": [
    "# extracting text from pdf\n",
    "pdf_file = PyPDF2.PdfReader(\"first_chapter.pdf\")\n",
    "extracted_text = \"\"\n",
    "\n",
    "for i in pdf_file.pages:\n",
    "    extracted_text += i.extract_text()\n",
    "\n",
    "with open(\"converted.txt\",\"w\") as f:\n",
    "    f.write(extracted_text)"
   ]
  },
  {
   "cell_type": "code",
   "execution_count": null,
   "metadata": {},
   "outputs": [],
   "source": []
  },
  {
   "cell_type": "code",
   "execution_count": 7,
   "metadata": {},
   "outputs": [
    {
     "data": {
      "text/plain": [
       "'5 2024 DBIR IntroductionIntroduction\\nGreetings! Welcome to Verizon’s 2024 Data Breach Investigations Report (DBIR). \\nThis year marks the 17th edition of this publication, and we are thrilled to welcome \\nback our old friends and say hello to new readers. As always, the aim of the DBIR is \\nto shine a light on the various Actor types, the tactics they utilize and the targets they \\nchoose. Thanks to our talented, generous and civic-minded contributors from around \\nthe world who continue to stick with us and share their data and insight, and deep \\nappreciation for our very own Verizon Threat Research Advisory Center (VTRAC) \\nteam (rock stars that they are). These two groups enable us to examine and analyze \\nrelevant trends in cybercrime that play out on a global stage across organizations of \\nall sizes and types.\\nFrom year to year, we see new and innovative attacks as well as variations on tried-\\nand-true attacks that still remain successful. From the exploitation of well-known \\nand far-reaching zero-day vulnerabilities, such as the one that affected MOVEit, to \\nthe much more mundane but still incredibly effective Ransomware and Denial of \\nService (DoS) attacks, criminals continue to do their utmost to prove the old adage \\n“crime does not pay” wrong.\\nThe shifting landscape of cyber threats can be confusing and overwhelming. When, \\nin addition to the attack types mentioned above, one throws in factors such as the \\nhuman element and/or poorly protected passwords, things become even more \\nconfused. One might be forgiven for viewing the current state of cybersecurity \\nas a colorful cyber Mardi Gras parade. Enterprise floats of all shapes and sizes \\ncruising past a large crowd of threat actors who are shouting out gleefully “Throw \\nme some creds!” Of course, human nature being what it is, all too often, the folks \\non the floats do just that. And, as with all such parades, what is left in the aftermath \\nisn’t necessarily pretty. The past year has been a busy one for cybercrime. We \\nanalyzed 30,458 real-world security incidents, of which 10,626 were confirmed data \\nbreaches (a record high!), with victims spanning 94 countries.\\nWhile the general structure of the report remains the same, long-time readers may \\nnotice a few changes. For example, the “first-time reader” section is now located in \\nAppendix A rather than at the beginning of the report. But we do encourage those \\nwho are new to the DBIR to give it a read-through before diving into the report. It \\nshould help you get your bearings.\\nLast, but certainly not least, we extend a most sincere thanks yet again to our \\ncontributors (without whom we could not do this) and to our readers (without whom \\nthere would be no point in doing it).\\nSincerely,\\nThe Verizon DBIR Team \\nC. David Hylender, Philippe Langlois, Alex Pinto, Suzanne Widup\\nVery special thanks to:\\n– Christopher Novak for his continued support and insight\\n– Dave Kennedy and Erika Gifford from VTRAC\\n–  Kate Kutchko, Marziyeh Khanouki and Yoni Fridman from the Verizon Business \\nProduct Data Science Team6\\n2024 DBIR Helpful guidanceHelpful guidance\\nAbout the 2024 DBIR incident dataset\\nEach year, the DBIR timeline for in-scope incidents is from November 1 of one \\ncalendar year through October 31 of the next calendar year. Thus, the incidents \\ndescribed in this report took place between November 1, 2022, and October 31, \\n2023. The 2023 caseload is the primary analytical focus of the 2024 report, but \\nthe entire range of data is referenced throughout, notably in trending graphs. The \\ntime between the latter date and the date of publication for this report is spent in \\nacquiring the data from our global contributors, anonymizing and aggregating that \\ndata, analyzing the dataset, and finally creating the graphics and writing the report. \\nThe jokes, sadly, do not write themselves.\\nCredit where credit is due\\nTurns out folks enjoy citing the report, and we often get asked how to go about \\ndoing it.\\nYou are permitted to include statistics, figures and other information from the report, \\nprovided that (a) you cite the source as “Verizon 2024 Data Breach Investigations \\nReport” and (b) the content is not modified in any way. Exact quotes are permitted, \\nbut paraphrasing requires review. If you would like to provide people a copy of the \\nreport, we ask that you provide them a link to verizon.com/dbir  rather than the PDF.\\nQuestions? Comments? Concerns? Love to \\nshare cute pet pictures?\\nLet us know! Send us a note at dbir@verizon.com , find us on LinkedIn, \\ntweet @VerizonBusiness  with #dbir. Got a data question?  \\nTweet @VZDBIR !\\nIf your organization aggregates incident or security data and is interested \\nin becoming a contributor to the annual Verizon DBIR (and we hope you \\nare), the process is very easy and straightforward. Please email us at  \\ndbircontributor@verizon.com .7\\nFigure 2. Ransomware and Extortion breaches over time\\nSummary of findings\\nOur ways-in analysis witnessed a \\nsubstantial growth of attacks involving \\nthe exploitation of vulnerabilities as the \\ncritical path to initiate a breach when \\ncompared to previous years. It almost \\ntripled (180% increase) from last year, \\nwhich will come as no surprise to \\nanyone who has been following the \\neffect of MOVEit and similar zero-day \\nvulnerabilities. These attacks were \\nprimarily leveraged by Ransomware \\nand other Extortion-related threat \\nactors. As one might imagine, the main \\nvector for those initial entry points was \\nWeb applications.\\n2024 DBIR Summary of findingsFigure 1. Select ways-in enumerations in non-Error, non-Misuse breaches \\n(n=6,963)\\nRoughly one-third of all breaches \\ninvolved Ransomware or some other \\nExtortion technique. Pure Extortion \\nattacks have risen over the past year \\nand are now a component of 9% of \\nall breaches. The shift of traditional \\nransomware actors toward these newer \\ntechniques resulted in a bit of a decline \\nin Ransomware to 23%. However, when \\ncombined, given that they share threat \\nactors, they represent a strong growth \\nto 32% of breaches. Ransomware was \\na top threat across 92% of industries.8\\n 2024 DBIR Summary of findingsWe have revised our calculation of the \\ninvolvement of the human element to \\nexclude malicious Privilege Misuse in \\nan effort to provide a clearer metric of \\nwhat security awareness can affect. For \\nthis year’s dataset, the human element \\nwas a component of 68% of breaches, \\nroughly the same as the previous period \\ndescribed in the 2023 DBIR.\\nIn this issue, we are introducing an \\nexpanded concept of a breach involving \\na third party that includes partner \\ninfrastructure being affected and \\ndirect or indirect software supply chain \\nissues—including when an organization \\nis affected by vulnerabilities in third-\\nparty software. In short, those are \\nbreaches an organization could \\npotentially mitigate or prevent by trying \\nto select vendors with better security \\ntrack records. We see this figure at \\n15% this year, a 68% increase from the \\nprevious year, mostly fueled by the use \\nof zero-day exploits for Ransomware \\nand Extortion attacks.\\nOur dataset saw a growth of breaches \\ninvolving Errors, now at 28%, as we \\nbroadened our contributor base to \\ninclude several new mandatory breach \\nnotification entities. This validates \\nour suspicion that errors are more \\nprevalent than media or traditional \\nincident response-driven bias would \\nlead us to believe.\\nFigure 3. Select key enumerations in breaches9\\nFigure 4. Phishing email report rate by click status\\n2024 DBIR Summary of findingsFinancially motivated threat actors will \\ntypically stick to the attack techniques \\nthat will give them the most return  \\non investment.\\nOver the past three years, the \\ncombination of Ransomware and \\nother Extortion breaches accounted \\nfor almost two-thirds (fluctuating \\nbetween 59% and 66%) of those \\nattacks. According to the FBI’s \\nInternet Crime Complaint Center \\n(IC3) ransomware complaint data, \\nthe median loss associated with the \\ncombination of Ransomware and \\nother Extortion breaches has been \\n$46,000, ranging between $3 (three \\ndollars) and $1,141,467 for 95% of the \\ncases. We also found from ransomware \\nnegotiation data contributors that \\nthe median ratio of initially requested \\nransom and company revenue is 1.34%, \\nbut it fluctuated between 0.13% and \\n8.30% for 80% of the cases.\\nSimilarly, over the past two years, we \\nhave seen incidents involving Pretexting \\n(the majority of which had Business \\nEmail Compromise [BEC] as the \\noutcome) accounting for one-fourth \\n(ranging between 24% and 25%) of \\nfinancially motivated attacks. In both \\nyears, the median transaction amount \\nof a BEC was around $50,000, also \\naccording to the FBI IC3 dataset.The overall reporting rate of Phishing \\nhas been growing over the past few \\nyears. In security awareness exercise \\ndata contributed by our partners during \\n2023, 20% of users reported phishing \\nin simulation engagements, and 11% \\nof the users who clicked the email \\nalso reported. This is welcome news \\nbecause on the flip side, the median \\ntime to click on a malicious link after the \\nemail is opened is 21 seconds and then \\nonly another 28 seconds for the person \\ncaught in the phishing scheme to enter \\ntheir data. This leads to an alarming \\nfinding: The median time for users  \\nto fall for phishing emails is less than  \\n60 seconds. Figure 4. Phishing email report rate by click status\\nFigure 5. Select action varieties in Financial motive over time'"
      ]
     },
     "execution_count": 7,
     "metadata": {},
     "output_type": "execute_result"
    }
   ],
   "source": [
    "extracted_text"
   ]
  },
  {
   "cell_type": "code",
   "execution_count": 5,
   "metadata": {},
   "outputs": [],
   "source": [
    "\n",
    "#Get API Key\n",
    "api_key = get_key('../.env', key_to_get='GEMINI_API_KEY')\n"
   ]
  },
  {
   "cell_type": "code",
   "execution_count": 6,
   "metadata": {},
   "outputs": [],
   "source": [
    "#Configure API key\n",
    "genai.configure(api_key=api_key)\n",
    "\n",
    "#Defining model\n",
    "gen_config = genai.GenerationConfig(\n",
    "    temperature=0.5,\n",
    ")\n",
    "\n",
    "model = genai.GenerativeModel(\n",
    "    model_name='gemini-1.5-flash-latest',\n",
    ")"
   ]
  },
  {
   "cell_type": "code",
   "execution_count": 9,
   "metadata": {},
   "outputs": [],
   "source": [
    "#text-splitter\n",
    "text_splitter = RecursiveCharacterTextSplitter(\n",
    "    chunk_size=4000, \n",
    "    chunk_overlap=30,\n",
    "    separators=['.','\\n','\\n\\n']\n",
    ")"
   ]
  },
  {
   "cell_type": "code",
   "execution_count": 10,
   "metadata": {},
   "outputs": [
    {
     "name": "stdout",
     "output_type": "stream",
     "text": [
      "Processed text:\n",
      "## Cybersecurity Simplified: Key Takeaways from the 2024 Data Breach Investigations Report\n",
      "\n",
      "* The 2024 Data Breach Investigations Report (DBIR) is out! This is the 17th year Verizon has released this report.\n",
      "* The DBIR looks at cybercrime trends around the world. \n",
      "* They see both new and old attack methods. Some attacks use brand new vulnerabilities, while others use old but effective methods like ransomware. \n",
      "* Human error and weak passwords make cyberattacks easier. \n",
      "* The DBIR analyzed over 30,000 security incidents, with over 10,000 confirmed data breaches. This is a record high!\n",
      "* The report has some changes, but the main structure is the same. \n",
      "* The report wouldn't be possible without contributors and readers. \n",
      "* The DBIR looks at incidents from November 1st, 2022 to October 31st, 2023. \n",
      "*  It takes time to collect, analyze, and write the report. \n",
      "* People enjoy citing the report, so they've included guidance on how to do so. \n",
      "Here's a breakdown of the provided text into simple sentences, keeping the source and content unchanged:\n",
      "\n",
      "**Key Findings from the Verizon 2024 Data Breach Investigations Report:**\n",
      "\n",
      "* **Exploiting Vulnerabilities on the Rise:**  Attacks that exploit vulnerabilities are increasing significantly. They almost tripled from last year, likely due to vulnerabilities like MOVEit and similar zero-day exploits.  These attacks are mainly used by ransomware and other extortion threat actors.  (Verizon 2024 Data Breach Investigations Report)\n",
      "* **Web Applications: The Main Entry Point:** Web applications are the primary way these attackers gain initial access. (Verizon 2024 Data Breach Investigations Report)\n",
      "* **Ransomware and Extortion: A Significant Threat:**  About one-third of all breaches involve ransomware or some other extortion technique. Pure extortion attacks have increased over the past year, now accounting for 9% of all breaches.  (Verizon 2024 Data Breach Investigations Report)\n",
      "* **Shifting Tactics:** Traditional ransomware actors are moving towards these newer extortion techniques, causing a slight decrease in pure ransomware attacks to 23%.  However, when combined (because they share threat actors), they account for a large proportion of breaches (32%). (Verizon 2024 Data Breach Investigations Report)\n",
      "* **Ransomware: A Widespread Threat:** Ransomware was a top threat across 92% of industries. (Verizon 2024 Data Breach Investigations Report)\n",
      "* **The Human Element: Still a Factor:** The human element was involved in 68% of breaches, roughly the same as in the previous year.  (Verizon 2024 Data Breach Investigations Report)\n",
      "* **Third-Party Breaches on the Rise:** The report now considers breaches involving third parties more broadly, including partner infrastructure, software supply chain issues, and vulnerabilities in third-party software. This category has seen a 68% increase this year, reaching 15% of breaches.  (Verizon 2024 Data Breach Investigations Report)\n",
      "* **Errors: A Growing Issue:** The report saw a rise in breaches involving errors, now at 28%, likely due to the expansion of data contributors. This suggests that errors are more common than previously thought. (Verizon 2024 Data Breach Investigations Report)\n",
      "* **Financially Motivated Attacks:** Threat actors primarily focus on attack techniques that give them the highest return on investment. (Verizon 2024 Data Breach Investigations Report)\n",
      "* **Ransomware and Extortion: Dominant Threats:** Over the past three years, the combination of ransomware and other extortion breaches has consistently accounted for nearly two-thirds (between 59% and 66%) of these attacks. (Verizon 2024 Data Breach Investigations Report) \n",
      "Here are the simplified sentences from the provided text:\n",
      "\n",
      "* The average loss from ransomware and extortion attacks is $46,000.  \n",
      "* This number can range from $3 to $1,141,467 in 95% of cases.\n",
      "* The average requested ransom is 1.34% of a company's revenue.\n",
      "* This number can range from 0.13% to 8.30% in 80% of cases.\n",
      "* Pretexting attacks, often involving Business Email Compromise (BEC), account for 24% to 25% of financially motivated attacks.\n",
      "* The average amount lost in BEC attacks is $50,000.\n",
      "* Phishing attacks are becoming more common.\n",
      "* In 2023, 20% of users reported phishing attacks in simulated exercises.\n",
      "* Of those who clicked on a phishing email, 11% reported it.\n",
      "* People take an average of 21 seconds to click on a malicious link after opening a phishing email.\n",
      "* They then take another 28 seconds to enter their information.\n",
      "* This means people take less than 60 seconds to fall for a phishing email. \n",
      "\n"
     ]
    }
   ],
   "source": [
    "# print('Original text:')\n",
    "# print(extracted_text)\n",
    "\n",
    "texts = text_splitter.split_text(extracted_text)\n",
    "\n",
    "converted_text = \"\"\n",
    "\n",
    "for text in texts:\n",
    "    response = model.generate_content(\n",
    "        f\"\"\"You are a cyber security expert and an expert summarizer. The audience is a general user who wants to know about cybersecurity. Convert the given paragraphs of text into simple sentences.\n",
    "        Example:\n",
    "        Input: Pure Extortion attacks have risen over the past year and are now a component of 9% of all breaches.\n",
    "        Output: Pure Extortion attacks have risen over the past year . Pure Extortion attacks are now a component of 9% of all breaches.\n",
    "\n",
    "        {text}\"\"\"\n",
    "    )\n",
    "    converted_text += response.text\n",
    "\n",
    "print('Processed text:')\n",
    "print(converted_text)\n"
   ]
  },
  {
   "cell_type": "code",
   "execution_count": null,
   "metadata": {},
   "outputs": [],
   "source": [
    "\n",
    "# text_splitter = RecursiveCharacterTextSplitter(\n",
    "#     chunk_size=100000, \n",
    "#     chunk_overlap=30,\n",
    "#     separators=['.','\\n','\\n\\n']\n",
    "# )\n",
    "\n",
    "# texts = text_splitter.split_text(converted_text)\n",
    "\n",
    "# summarized_content = \"\"\n",
    "\n",
    "# for text in texts:\n",
    "#     response = model.generate_content(\n",
    "#         f\"\"\"You are a cyber security expert and an expert summarizer. {prompt}. Make sure to include the text that contains the following keywords:\n",
    "#         {keywords}\n",
    "#         {text}\"\"\"\n",
    "#     )\n",
    "#     summarized_content += response.text\n",
    "\n",
    "# return summarized_content\n",
    "# with open(f\"./converted_content/{file_name}.txt\", \"w\") as f:\n",
    "#         f.write(converted_text)\n",
    "\n",
    "# return converted_text\n",
    "\n",
    "\n",
    "# if __name__ == '__main__':\n",
    "# result = convertor({'name':'2024-dbir-data-breach-investigations-report.pdf'})\n",
    "# print('Summarized Result')\n",
    "# print(result) "
   ]
  }
 ],
 "metadata": {
  "kernelspec": {
   "display_name": ".venv",
   "language": "python",
   "name": "python3"
  },
  "language_info": {
   "codemirror_mode": {
    "name": "ipython",
    "version": 3
   },
   "file_extension": ".py",
   "mimetype": "text/x-python",
   "name": "python",
   "nbconvert_exporter": "python",
   "pygments_lexer": "ipython3",
   "version": "3.11.9"
  }
 },
 "nbformat": 4,
 "nbformat_minor": 2
}
