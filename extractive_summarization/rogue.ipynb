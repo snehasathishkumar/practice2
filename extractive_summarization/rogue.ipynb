{
 "cells": [
  {
   "cell_type": "code",
   "execution_count": 2,
   "metadata": {},
   "outputs": [],
   "source": [
    "from rouge import Rouge"
   ]
  },
  {
   "cell_type": "code",
   "execution_count": null,
   "metadata": {},
   "outputs": [],
   "source": [
    "def evaluate_rouge(reference_text, summary_text):\n",
    "    rouge = Rouge()\n",
    "    scores = rouge.get_scores(reference_text, summary_text)\n",
    "    return scores[0]['rouge-1']['f']"
   ]
  },
  {
   "cell_type": "code",
   "execution_count": null,
   "metadata": {},
   "outputs": [],
   "source": [
    "rouge_score = evaluate_rouge(reference_summary, summary)\n",
    "\n",
    "print(f\"ROUGE score: {rouge_score}\")"
   ]
  },
  {
   "cell_type": "code",
   "execution_count": 6,
   "metadata": {},
   "outputs": [
    {
     "name": "stdout",
     "output_type": "stream",
     "text": [
      "ROUGE score: 0.44444444000000005\n"
     ]
    }
   ],
   "source": [
    "import rouge\n",
    "from rouge import Rouge\n",
    "# a defined function called evaluate_rouge taking two arguments, \n",
    "# one being reference text and the other summary text, \n",
    "# and uses the ROUGE metric to evaluate the quality of the summary text compared to the reference text.\n",
    "# The function uses the rouge library to compute the ROUGE scores and returns the F1 score of the ROUGE-1 metric.\n",
    "def evaluate_rouge(reference_text, summary_text):\n",
    "    rouge = Rouge()\n",
    "    scores = rouge.get_scores(reference_text, summary_text)\n",
    "    return scores[0]['rouge-1']['f']\n",
    "\n",
    "# the following is a human generated summary\n",
    "reference_summary = '''\n",
    "Weather is a gradual slow change through days and hours in the atmosphere and can vary from wind to snow. \n",
    "Climate tells a lot about the weather in an area.\n",
    "The livelihood of people changes according to the change in weather.\n",
    "Weather stations measure different parts of weather.\n",
    "People who use measurements to make weather forecasts for the future are called meteorologists, and are scientists.'''\n",
    "\n",
    "# the sample text from Wikipedia\n",
    "text = '''\n",
    "Weather is the day-to-day or hour-to-hour change in the atmosphere. \n",
    "Weather includes wind, lightning, storms, hurricanes, tornadoes (also known as twisters), rain, hail, snow, and lots more. \n",
    "Energy from the Sun affects the weather too. \n",
    "Climate tells us what kinds of weather usually happen in an area at different times of the year. \n",
    "Changes in weather can affect our mood and life. We wear different clothes and do different things in different weather conditions. \n",
    "We choose different foods in different seasons.\n",
    "Weather stations around the world measure different parts of weather. \n",
    "Ways to measure weather are wind speed, wind direction, temperature and humidity. \n",
    "People try to use these measurements to make weather forecasts for the future. \n",
    "These people are scientists that are called meteorologists. \n",
    "They use computers to build large mathematical models to follow weather trends.'''\n",
    "\n",
    "# Generate summary using frequency-based/TF-IDF approach\n",
    "# summary = generate_summary(text, 5)\n",
    "\n",
    "# Evaluate the summary using ROUGE\n",
    "rouge_score = evaluate_rouge(reference_summary,text)\n",
    "\n",
    "print(f\"ROUGE score: {rouge_score}\")\n",
    "\n",
    "# For frequency based approach we are getting a score of 0.336\n",
    "# For TF-IDF approach we are getting a score of 0.465"
   ]
  },
  {
   "cell_type": "code",
   "execution_count": null,
   "metadata": {},
   "outputs": [],
   "source": []
  }
 ],
 "metadata": {
  "kernelspec": {
   "display_name": ".venv",
   "language": "python",
   "name": "python3"
  },
  "language_info": {
   "codemirror_mode": {
    "name": "ipython",
    "version": 3
   },
   "file_extension": ".py",
   "mimetype": "text/x-python",
   "name": "python",
   "nbconvert_exporter": "python",
   "pygments_lexer": "ipython3",
   "version": "3.12.3"
  }
 },
 "nbformat": 4,
 "nbformat_minor": 2
}
