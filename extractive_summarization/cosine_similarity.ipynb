{
 "cells": [
  {
   "cell_type": "code",
   "execution_count": 2,
   "metadata": {},
   "outputs": [],
   "source": [
    "from sklearn.feature_extraction.text import CountVectorizer\n",
    "import pandas as pd\n",
    "from sklearn.metrics.pairwise import cosine_similarity\n",
    "from langchain_text_splitters import RecursiveCharacterTextSplitter\n",
    "from langchain_community.document_loaders import WebBaseLoader\n",
    "import requests\n",
    "from bs4 import BeautifulSoup\n"
   ]
  },
  {
   "cell_type": "code",
   "execution_count": 3,
   "metadata": {},
   "outputs": [
    {
     "name": "stderr",
     "output_type": "stream",
     "text": [
      "c:\\Users\\99013031\\Desktop\\urlsumm\\.venv\\Lib\\site-packages\\urllib3\\connectionpool.py:1103: InsecureRequestWarning: Unverified HTTPS request is being made to host 'www.gov.uk'. Adding certificate verification is strongly advised. See: https://urllib3.readthedocs.io/en/latest/advanced-usage.html#tls-warnings\n",
      "  warnings.warn(\n"
     ]
    }
   ],
   "source": [
    "weburl = \"https://www.gov.uk/government/publications/research-on-the-cyber-security-of-ai/ai-cyber-security-survey-main-report\"\n",
    "loader = WebBaseLoader(weburl)\n",
    "loader.requests_kwargs = {'verify':False}\n",
    "data = loader.load()\n",
    "data = str(data)"
   ]
  },
  {
   "cell_type": "code",
   "execution_count": 4,
   "metadata": {},
   "outputs": [],
   "source": [
    "text_splitter = RecursiveCharacterTextSplitter(\n",
    "    chunk_size=1000, \n",
    "    chunk_overlap=30,\n",
    "    separators=['.','\\n','\\n\\n']\n",
    ")"
   ]
  },
  {
   "cell_type": "code",
   "execution_count": 5,
   "metadata": {},
   "outputs": [],
   "source": [
    "docs = text_splitter.split_text(data)\n"
   ]
  },
  {
   "cell_type": "code",
   "execution_count": 6,
   "metadata": {},
   "outputs": [
    {
     "data": {
      "text/plain": [
       "list"
      ]
     },
     "execution_count": 6,
     "metadata": {},
     "output_type": "execute_result"
    }
   ],
   "source": [
    "type(docs)"
   ]
  },
  {
   "cell_type": "code",
   "execution_count": 8,
   "metadata": {},
   "outputs": [
    {
     "data": {
      "text/plain": [
       "matrix([[0, 0, 0, ..., 0, 3, 3],\n",
       "        [0, 0, 0, ..., 0, 0, 0],\n",
       "        [0, 0, 0, ..., 0, 0, 0],\n",
       "        ...,\n",
       "        [0, 0, 0, ..., 0, 2, 3],\n",
       "        [0, 0, 0, ..., 0, 0, 0],\n",
       "        [0, 0, 0, ..., 0, 0, 0]], dtype=int64)"
      ]
     },
     "execution_count": 8,
     "metadata": {},
     "output_type": "execute_result"
    }
   ],
   "source": [
    "count_vectorizer = CountVectorizer(stop_words=\"english\")\n",
    "count_vectorizer = CountVectorizer()\n",
    "sparse_matrix = count_vectorizer.fit_transform(docs)\n",
    "sparse_matrix\n",
    "doc_term_matrix = sparse_matrix.todense()\n",
    "doc_term_matrix"
   ]
  },
  {
   "cell_type": "code",
   "execution_count": 10,
   "metadata": {},
   "outputs": [
    {
     "name": "stdout",
     "output_type": "stream",
     "text": [
      "                                                    056  059  10  10th  11  \\\n",
      "[Document(page_content='\\n\\n\\n\\n\\n\\n\\n\\n\\n\\n\\n\\...    0    0   0     0   0   \n",
      ".UK\\n              \\n\\n\\n \\n\\n\\n        Navigat...    0    0   0     0   0   \n",
      ".UK\\n              \\n\\n\\n\\n\\n \\n \\n\\n\\n\\n\\n\\n  ...    0    0   0     0   0   \n",
      ".UK\\n\\n\\n\\n\\n        Search\\n        \\n\\n\\n\\n\\n...    0    0   0     0   0   \n",
      ".gov.uk/doc/open-government-licence/version/3 o...    0    0   0     0   0   \n",
      ". Fieldwork was conducted using Computer Assist...    0    0   0     1   0   \n",
      ".\\nKey findings\\nThe survey sought to create a ...    0    0   0     0   0   \n",
      ". Among those who have not yet deployed AI but ...    0    0   0     0   0   \n",
      ". Among those planning to use AI in the future,...    0    0   0     0   0   \n",
      ". Just under three-quarters (72%) had a formal ...    0    0   0     0   0   \n",
      ".\\n\\n2.  Introduction\\nBackground\\nThe Departme...    0    0   0     0   0   \n",
      ". The growing use of AI among businesses presen...    0    0   0     0   0   \n",
      ".\\nSurvey fieldwork\\nThis report is based on da...    0    0   0     0   0   \n",
      ". Interviews lasted an average of 15 minutes an...    0    0   0     1   0   \n",
      ".\\nTable 3.1 Interview targets by sector\\n\\n\\n\\...    0    0   0     0   0   \n",
      ". It was not possible to know at the point of d...    0    0   0     0   0   \n",
      ".2.\\nTable 3.2 Profile of participating busines...    0    0   1     0   0   \n",
      ". Among the 10,924 businesses called at least o...    0    0   1     0   0   \n",
      ".\\nTable 3.3 Unadjusted response rate\\n\\n\\n\\nDe...    1    1   0     0   0   \n",
      ".4 Adjusted response rate based on a definitive...    0    1   0     0   0   \n",
      ".[footnote 2]\\nReasons for not using AI\\nRespon...    0    0   1     0   0   \n",
      ". This was a deliberate decision - the Departme...    0    0   0     0   0   \n",
      ". Figure 4.1 illustrates the type of AI technol...    0    0   0     0   0   \n",
      ".\\nFigure 4.1 Use of AI technologies\\n\\n\\n\\nAI ...    0    0   0     0   0   \n",
      ". Meanwhile, among businesses planning to adopt...    0    0   0     0   0   \n",
      ". co-pilot);\\n5% - Microsoft Co-pilot;\\n5% - Ge...    0    0   0     0   0   \n",
      ".\\nFigure 4.3 Length of time using each AI tech...    0    0   0     0   0   \n",
      ".\\nAmong those who have not yet deployed AI but...    0    0   0     0   0   \n",
      ".\\nFigure 4.4 When organisations not currently ...    0    0   0     0   0   \n",
      ".\\nHow the AI was adopted\\nEach AI technology w...    0    0   0     0   0   \n",
      ".\\nFigure 4.5 How the AI technology was adopted...    0    0   0     0   0   \n",
      ".\\nReasons for employing AI technology\\nJust ov...    0    0   0     0   0   \n",
      ".\\nFigure 4.6 Reasons for employing AI technolo...    0    0   0     0   0   \n",
      ".1, two-fifths (40%) said they had specific cyb...    0    0   0     0   0   \n",
      ".\\nAmong those planning to use AI in the future...    0    0   0     0   0   \n",
      ". Question C2. Would your organisation have spe...    0    0   0     0   0   \n",
      ".\\nFigure 5.2 Cyber security processes explicit...    0    0   0     0   0   \n",
      ".\\nFor those without or not intending to have s...    0    0   1     0   2   \n",
      ". One in ten (11%) said that they would expect ...    0    0   0     0   2   \n",
      ".\\n\\n6.  General cyber security practices\\nThis...    0    0   0     0   0   \n",
      ". Large businesses were more likely to have all...    0    0   0     0   0   \n",
      ". An outsourced provider that manages their cyb...    0    0   0     0   0   \n",
      ".\\nThose with cyber security practices in place...    0    0   0     0   0   \n",
      ".\\n\\nFigure 6.1 Governance or risk management a...    0    0   0     0   0   \n",
      ". This compares to 27% of businesses in the Cyb...    0    0   0     0   0   \n",
      ".\\nFigure 6.2 Standards or accreditations adher...    0    0   0     0   0   \n",
      ".\\nAny National Institute of Standards and Tech...    0    0   0     0   0   \n",
      ".[footnote 5] The most common measures taken by...    0    0   0     0   0   \n",
      ".\\nTwo-fifths (40%) had tested staff awareness,...    0    0   0     0   1   \n",
      ".\\nFigure 6.3 Actions taken to identify cyber s...    0    0   0     0   0   \n",
      ".  Appendix: Glossary\\nArtificial Intelligence ...    0    0   0     0   0   \n",
      ".\\nNatural language processing and generation: ...    0    0   0     0   0   \n",
      ".UK (www.gov.uk)\\xa0↩\\n\\n\\n\\n\\n\\n\\n\\n\\n\\n\\n\\n\\n...    0    0   0     0   0   \n",
      ".\\n      \\n\\n        Cancel\\n      \\n\\n\\n\\n\\n\\n...    0    0   0     0   0   \n",
      ".0, except where otherwise stated\\n        \\n\\n...    0    0   0     0   0   \n",
      "\n",
      "                                                    111  12  13  132  13th  \\\n",
      "[Document(page_content='\\n\\n\\n\\n\\n\\n\\n\\n\\n\\n\\n\\...    0   0   0    0     0   \n",
      ".UK\\n              \\n\\n\\n \\n\\n\\n        Navigat...    0   0   0    0     0   \n",
      ".UK\\n              \\n\\n\\n\\n\\n \\n \\n\\n\\n\\n\\n\\n  ...    0   0   0    0     0   \n",
      ".UK\\n\\n\\n\\n\\n        Search\\n        \\n\\n\\n\\n\\n...    0   0   0    0     0   \n",
      ".gov.uk/doc/open-government-licence/version/3 o...    0   0   0    0     0   \n",
      ". Fieldwork was conducted using Computer Assist...    0   0   0    0     1   \n",
      ".\\nKey findings\\nThe survey sought to create a ...    0   0   0    0     0   \n",
      ". Among those who have not yet deployed AI but ...    0   1   2    0     0   \n",
      ". Among those planning to use AI in the future,...    0   0   0    0     0   \n",
      ". Just under three-quarters (72%) had a formal ...    0   1   0    0     0   \n",
      ".\\n\\n2.  Introduction\\nBackground\\nThe Departme...    0   0   0    0     0   \n",
      ". The growing use of AI among businesses presen...    0   0   0    0     0   \n",
      ".\\nSurvey fieldwork\\nThis report is based on da...    0   0   0    0     0   \n",
      ". Interviews lasted an average of 15 minutes an...    0   0   0    0     1   \n",
      ".\\nTable 3.1 Interview targets by sector\\n\\n\\n\\...    0   0   0    0     0   \n",
      ". It was not possible to know at the point of d...    0   0   0    0     0   \n",
      ".2.\\nTable 3.2 Profile of participating busines...    0   0   0    0     0   \n",
      ". Among the 10,924 businesses called at least o...    0   0   0    0     0   \n",
      ".\\nTable 3.3 Unadjusted response rate\\n\\n\\n\\nDe...    0   0   0    0     0   \n",
      ".4 Adjusted response rate based on a definitive...    0   0   0    0     0   \n",
      ".[footnote 2]\\nReasons for not using AI\\nRespon...    0   0   0    0     0   \n",
      ". This was a deliberate decision - the Departme...    0   0   0    0     0   \n",
      ". Figure 4.1 illustrates the type of AI technol...    0   0   0    0     0   \n",
      ".\\nFigure 4.1 Use of AI technologies\\n\\n\\n\\nAI ...    0   0   0    0     0   \n",
      ". Meanwhile, among businesses planning to adopt...    1   0   0    0     0   \n",
      ". co-pilot);\\n5% - Microsoft Co-pilot;\\n5% - Ge...    0   0   0    0     0   \n",
      ".\\nFigure 4.3 Length of time using each AI tech...    0   0   0    1     0   \n",
      ".\\nAmong those who have not yet deployed AI but...    0   0   0    0     0   \n",
      ".\\nFigure 4.4 When organisations not currently ...    1   0   0    0     0   \n",
      ".\\nHow the AI was adopted\\nEach AI technology w...    0   0   0    0     0   \n",
      ".\\nFigure 4.5 How the AI technology was adopted...    0   0   0    1     0   \n",
      ".\\nReasons for employing AI technology\\nJust ov...    0   1   1    0     0   \n",
      ".\\nFigure 4.6 Reasons for employing AI technolo...    0   0   0    0     0   \n",
      ".1, two-fifths (40%) said they had specific cyb...    0   0   1    0     0   \n",
      ".\\nAmong those planning to use AI in the future...    0   0   0    0     0   \n",
      ". Question C2. Would your organisation have spe...    1   0   0    0     0   \n",
      ".\\nFigure 5.2 Cyber security processes explicit...    0   0   0    0     0   \n",
      ".\\nFor those without or not intending to have s...    0   0   0    0     0   \n",
      ". One in ten (11%) said that they would expect ...    0   0   0    0     0   \n",
      ".\\n\\n6.  General cyber security practices\\nThis...    0   0   0    0     0   \n",
      ". Large businesses were more likely to have all...    0   0   0    0     0   \n",
      ". An outsourced provider that manages their cyb...    0   0   0    0     0   \n",
      ".\\nThose with cyber security practices in place...    0   0   0    0     0   \n",
      ".\\n\\nFigure 6.1 Governance or risk management a...    0   0   0    0     0   \n",
      ". This compares to 27% of businesses in the Cyb...    0   1   0    0     0   \n",
      ".\\nFigure 6.2 Standards or accreditations adher...    0   0   0    0     0   \n",
      ".\\nAny National Institute of Standards and Tech...    0   1   0    0     0   \n",
      ".[footnote 5] The most common measures taken by...    0   0   0    0     0   \n",
      ".\\nTwo-fifths (40%) had tested staff awareness,...    0   0   0    0     0   \n",
      ".\\nFigure 6.3 Actions taken to identify cyber s...    0   2   0    0     0   \n",
      ".  Appendix: Glossary\\nArtificial Intelligence ...    0   0   0    0     0   \n",
      ".\\nNatural language processing and generation: ...    0   0   0    0     0   \n",
      ".UK (www.gov.uk)\\xa0↩\\n\\n\\n\\n\\n\\n\\n\\n\\n\\n\\n\\n\\n...    0   0   0    0     0   \n",
      ".\\n      \\n\\n        Cancel\\n      \\n\\n\\n\\n\\n\\n...    0   0   0    0     0   \n",
      ".0, except where otherwise stated\\n        \\n\\n...    0   0   0    0     0   \n",
      "\n",
      "                                                    ...  wrong  www  xa0  \\\n",
      "[Document(page_content='\\n\\n\\n\\n\\n\\n\\n\\n\\n\\n\\n\\...  ...      0    0    0   \n",
      ".UK\\n              \\n\\n\\n \\n\\n\\n        Navigat...  ...      0    0    0   \n",
      ".UK\\n              \\n\\n\\n\\n\\n \\n \\n\\n\\n\\n\\n\\n  ...  ...      0    0    0   \n",
      ".UK\\n\\n\\n\\n\\n        Search\\n        \\n\\n\\n\\n\\n...  ...      0    0    0   \n",
      ".gov.uk/doc/open-government-licence/version/3 o...  ...      0    1    0   \n",
      ". Fieldwork was conducted using Computer Assist...  ...      0    0    0   \n",
      ".\\nKey findings\\nThe survey sought to create a ...  ...      0    0    0   \n",
      ". Among those who have not yet deployed AI but ...  ...      0    0    0   \n",
      ". Among those planning to use AI in the future,...  ...      0    0    0   \n",
      ". Just under three-quarters (72%) had a formal ...  ...      0    0    0   \n",
      ".\\n\\n2.  Introduction\\nBackground\\nThe Departme...  ...      0    0    0   \n",
      ". The growing use of AI among businesses presen...  ...      0    0    0   \n",
      ".\\nSurvey fieldwork\\nThis report is based on da...  ...      0    0    0   \n",
      ". Interviews lasted an average of 15 minutes an...  ...      0    0    0   \n",
      ".\\nTable 3.1 Interview targets by sector\\n\\n\\n\\...  ...      0    0    0   \n",
      ". It was not possible to know at the point of d...  ...      0    0    0   \n",
      ".2.\\nTable 3.2 Profile of participating busines...  ...      0    0    0   \n",
      ". Among the 10,924 businesses called at least o...  ...      0    0    0   \n",
      ".\\nTable 3.3 Unadjusted response rate\\n\\n\\n\\nDe...  ...      1    0    0   \n",
      ".4 Adjusted response rate based on a definitive...  ...      0    0    0   \n",
      ".[footnote 2]\\nReasons for not using AI\\nRespon...  ...      0    0    0   \n",
      ". This was a deliberate decision - the Departme...  ...      0    0    0   \n",
      ". Figure 4.1 illustrates the type of AI technol...  ...      0    0    0   \n",
      ".\\nFigure 4.1 Use of AI technologies\\n\\n\\n\\nAI ...  ...      0    0    5   \n",
      ". Meanwhile, among businesses planning to adopt...  ...      0    0    2   \n",
      ". co-pilot);\\n5% - Microsoft Co-pilot;\\n5% - Ge...  ...      0    0    0   \n",
      ".\\nFigure 4.3 Length of time using each AI tech...  ...      0    0    5   \n",
      ".\\nAmong those who have not yet deployed AI but...  ...      0    0    0   \n",
      ".\\nFigure 4.4 When organisations not currently ...  ...      0    0    5   \n",
      ".\\nHow the AI was adopted\\nEach AI technology w...  ...      0    0    0   \n",
      ".\\nFigure 4.5 How the AI technology was adopted...  ...      0    0    5   \n",
      ".\\nReasons for employing AI technology\\nJust ov...  ...      0    0    0   \n",
      ".\\nFigure 4.6 Reasons for employing AI technolo...  ...      0    0    0   \n",
      ".1, two-fifths (40%) said they had specific cyb...  ...      0    0    0   \n",
      ".\\nAmong those planning to use AI in the future...  ...      0    0    2   \n",
      ". Question C2. Would your organisation have spe...  ...      0    0    0   \n",
      ".\\nFigure 5.2 Cyber security processes explicit...  ...      0    0    0   \n",
      ".\\nFor those without or not intending to have s...  ...      0    0    0   \n",
      ". One in ten (11%) said that they would expect ...  ...      0    0    0   \n",
      ".\\n\\n6.  General cyber security practices\\nThis...  ...      0    0    0   \n",
      ". Large businesses were more likely to have all...  ...      0    0    0   \n",
      ". An outsourced provider that manages their cyb...  ...      0    0    0   \n",
      ".\\nThose with cyber security practices in place...  ...      0    0    0   \n",
      ".\\n\\nFigure 6.1 Governance or risk management a...  ...      0    0    0   \n",
      ". This compares to 27% of businesses in the Cyb...  ...      0    0    0   \n",
      ".\\nFigure 6.2 Standards or accreditations adher...  ...      0    0    0   \n",
      ".\\nAny National Institute of Standards and Tech...  ...      0    0    0   \n",
      ".[footnote 5] The most common measures taken by...  ...      0    0    0   \n",
      ".\\nTwo-fifths (40%) had tested staff awareness,...  ...      0    0    0   \n",
      ".\\nFigure 6.3 Actions taken to identify cyber s...  ...      0    0    0   \n",
      ".  Appendix: Glossary\\nArtificial Intelligence ...  ...      0    0    0   \n",
      ".\\nNatural language processing and generation: ...  ...      0    2    4   \n",
      ".UK (www.gov.uk)\\xa0↩\\n\\n\\n\\n\\n\\n\\n\\n\\n\\n\\n\\n\\n...  ...      1    1    1   \n",
      ".\\n      \\n\\n        Cancel\\n      \\n\\n\\n\\n\\n\\n...  ...      0    0    0   \n",
      ".0, except where otherwise stated\\n        \\n\\n...  ...      0    1    0   \n",
      "\n",
      "                                                    xero  year  years  yes  \\\n",
      "[Document(page_content='\\n\\n\\n\\n\\n\\n\\n\\n\\n\\n\\n\\...     0     0      0    0   \n",
      ".UK\\n              \\n\\n\\n \\n\\n\\n        Navigat...     0     0      0    0   \n",
      ".UK\\n              \\n\\n\\n\\n\\n \\n \\n\\n\\n\\n\\n\\n  ...     0     0      0    0   \n",
      ".UK\\n\\n\\n\\n\\n        Search\\n        \\n\\n\\n\\n\\n...     0     0      0    0   \n",
      ".gov.uk/doc/open-government-licence/version/3 o...     0     0      0    0   \n",
      ". Fieldwork was conducted using Computer Assist...     0     0      0    0   \n",
      ".\\nKey findings\\nThe survey sought to create a ...     0     1      1    0   \n",
      ". Among those who have not yet deployed AI but ...     0     1      0    0   \n",
      ". Among those planning to use AI in the future,...     0     0      0    0   \n",
      ". Just under three-quarters (72%) had a formal ...     0     0      0    0   \n",
      ".\\n\\n2.  Introduction\\nBackground\\nThe Departme...     0     0      0    0   \n",
      ". The growing use of AI among businesses presen...     0     0      0    0   \n",
      ".\\nSurvey fieldwork\\nThis report is based on da...     0     0      0    0   \n",
      ". Interviews lasted an average of 15 minutes an...     0     0      0    0   \n",
      ".\\nTable 3.1 Interview targets by sector\\n\\n\\n\\...     0     0      0    0   \n",
      ". It was not possible to know at the point of d...     0     0      0    0   \n",
      ".2.\\nTable 3.2 Profile of participating busines...     0     0      0    0   \n",
      ". Among the 10,924 businesses called at least o...     0     0      0    0   \n",
      ".\\nTable 3.3 Unadjusted response rate\\n\\n\\n\\nDe...     0     0      0    0   \n",
      ".4 Adjusted response rate based on a definitive...     0     0      0    0   \n",
      ".[footnote 2]\\nReasons for not using AI\\nRespon...     0     0      0    0   \n",
      ". This was a deliberate decision - the Departme...     0     0      0    0   \n",
      ". Figure 4.1 illustrates the type of AI technol...     0     0      0    0   \n",
      ".\\nFigure 4.1 Use of AI technologies\\n\\n\\n\\nAI ...     0     0      0    0   \n",
      ". Meanwhile, among businesses planning to adopt...     0     0      0    0   \n",
      ". co-pilot);\\n5% - Microsoft Co-pilot;\\n5% - Ge...     1     1      1    0   \n",
      ".\\nFigure 4.3 Length of time using each AI tech...     0     0      4    0   \n",
      ".\\nAmong those who have not yet deployed AI but...     0     2      0    0   \n",
      ".\\nFigure 4.4 When organisations not currently ...     0     2      0    0   \n",
      ".\\nHow the AI was adopted\\nEach AI technology w...     0     0      0    0   \n",
      ".\\nFigure 4.5 How the AI technology was adopted...     0     0      0    0   \n",
      ".\\nReasons for employing AI technology\\nJust ov...     0     0      0    0   \n",
      ".\\nFigure 4.6 Reasons for employing AI technolo...     0     0      0    0   \n",
      ".1, two-fifths (40%) said they had specific cyb...     0     0      0    0   \n",
      ".\\nAmong those planning to use AI in the future...     0     0      0    0   \n",
      ". Question C2. Would your organisation have spe...     0     0      0    0   \n",
      ".\\nFigure 5.2 Cyber security processes explicit...     0     0      0    0   \n",
      ".\\nFor those without or not intending to have s...     0     0      0    0   \n",
      ". One in ten (11%) said that they would expect ...     0     0      0    0   \n",
      ".\\n\\n6.  General cyber security practices\\nThis...     0     0      0    0   \n",
      ". Large businesses were more likely to have all...     0     0      0    0   \n",
      ". An outsourced provider that manages their cyb...     0     0      0    0   \n",
      ".\\nThose with cyber security practices in place...     0     0      0    0   \n",
      ".\\n\\nFigure 6.1 Governance or risk management a...     0     0      0    0   \n",
      ". This compares to 27% of businesses in the Cyb...     0     0      0    0   \n",
      ".\\nFigure 6.2 Standards or accreditations adher...     0     0      0    0   \n",
      ".\\nAny National Institute of Standards and Tech...     0     0      0    0   \n",
      ".[footnote 5] The most common measures taken by...     0     0      0    0   \n",
      ".\\nTwo-fifths (40%) had tested staff awareness,...     0     0      0    0   \n",
      ".\\nFigure 6.3 Actions taken to identify cyber s...     0     0      0    0   \n",
      ".  Appendix: Glossary\\nArtificial Intelligence ...     0     0      0    0   \n",
      ".\\nNatural language processing and generation: ...     0     0      0    0   \n",
      ".UK (www.gov.uk)\\xa0↩\\n\\n\\n\\n\\n\\n\\n\\n\\n\\n\\n\\n\\n...     0     0      0    1   \n",
      ".\\n      \\n\\n        Cancel\\n      \\n\\n\\n\\n\\n\\n...     0     0      0    0   \n",
      ".0, except where otherwise stated\\n        \\n\\n...     0     0      0    0   \n",
      "\n",
      "                                                    yet  you  your  \n",
      "[Document(page_content='\\n\\n\\n\\n\\n\\n\\n\\n\\n\\n\\n\\...    0    3     3  \n",
      ".UK\\n              \\n\\n\\n \\n\\n\\n        Navigat...    0    0     0  \n",
      ".UK\\n              \\n\\n\\n\\n\\n \\n \\n\\n\\n\\n\\n\\n  ...    0    0     0  \n",
      ".UK\\n\\n\\n\\n\\n        Search\\n        \\n\\n\\n\\n\\n...    0    0     0  \n",
      ".gov.uk/doc/open-government-licence/version/3 o...    0    1     0  \n",
      ". Fieldwork was conducted using Computer Assist...    0    0     0  \n",
      ".\\nKey findings\\nThe survey sought to create a ...    0    0     0  \n",
      ". Among those who have not yet deployed AI but ...    1    0     0  \n",
      ". Among those planning to use AI in the future,...    0    0     0  \n",
      ". Just under three-quarters (72%) had a formal ...    0    0     0  \n",
      ".\\n\\n2.  Introduction\\nBackground\\nThe Departme...    0    0     0  \n",
      ". The growing use of AI among businesses presen...    0    0     0  \n",
      ".\\nSurvey fieldwork\\nThis report is based on da...    0    0     0  \n",
      ". Interviews lasted an average of 15 minutes an...    0    0     0  \n",
      ".\\nTable 3.1 Interview targets by sector\\n\\n\\n\\...    0    0     0  \n",
      ". It was not possible to know at the point of d...    0    0     0  \n",
      ".2.\\nTable 3.2 Profile of participating busines...    0    0     0  \n",
      ". Among the 10,924 businesses called at least o...    0    0     0  \n",
      ".\\nTable 3.3 Unadjusted response rate\\n\\n\\n\\nDe...    0    0     0  \n",
      ".4 Adjusted response rate based on a definitive...    0    0     0  \n",
      ".[footnote 2]\\nReasons for not using AI\\nRespon...    0    0     0  \n",
      ". This was a deliberate decision - the Departme...    0    0     0  \n",
      ". Figure 4.1 illustrates the type of AI technol...    0    0     0  \n",
      ".\\nFigure 4.1 Use of AI technologies\\n\\n\\n\\nAI ...    0    1     1  \n",
      ". Meanwhile, among businesses planning to adopt...    0    0     0  \n",
      ". co-pilot);\\n5% - Microsoft Co-pilot;\\n5% - Ge...    0    0     0  \n",
      ".\\nFigure 4.3 Length of time using each AI tech...    0    1     1  \n",
      ".\\nAmong those who have not yet deployed AI but...    1    0     0  \n",
      ".\\nFigure 4.4 When organisations not currently ...    0    2     1  \n",
      ".\\nHow the AI was adopted\\nEach AI technology w...    0    0     0  \n",
      ".\\nFigure 4.5 How the AI technology was adopted...    0    0     1  \n",
      ".\\nReasons for employing AI technology\\nJust ov...    0    0     0  \n",
      ".\\nFigure 4.6 Reasons for employing AI technolo...    0    0     1  \n",
      ".1, two-fifths (40%) said they had specific cyb...    0    0     0  \n",
      ".\\nAmong those planning to use AI in the future...    0    1     1  \n",
      ". Question C2. Would your organisation have spe...    0    0     2  \n",
      ".\\nFigure 5.2 Cyber security processes explicit...    0    1     0  \n",
      ".\\nFor those without or not intending to have s...    0    0     0  \n",
      ". One in ten (11%) said that they would expect ...    0    0     0  \n",
      ".\\n\\n6.  General cyber security practices\\nThis...    0    0     0  \n",
      ". Large businesses were more likely to have all...    0    0     0  \n",
      ". An outsourced provider that manages their cyb...    0    0     0  \n",
      ".\\nThose with cyber security practices in place...    0    0     0  \n",
      ".\\n\\nFigure 6.1 Governance or risk management a...    0    1     0  \n",
      ". This compares to 27% of businesses in the Cyb...    0    0     0  \n",
      ".\\nFigure 6.2 Standards or accreditations adher...    0    0     1  \n",
      ".\\nAny National Institute of Standards and Tech...    0    0     0  \n",
      ".[footnote 5] The most common measures taken by...    0    0     0  \n",
      ".\\nTwo-fifths (40%) had tested staff awareness,...    0    0     0  \n",
      ".\\nFigure 6.3 Actions taken to identify cyber s...    0    1     1  \n",
      ".  Appendix: Glossary\\nArtificial Intelligence ...    0    0     0  \n",
      ".\\nNatural language processing and generation: ...    0    0     0  \n",
      ".UK (www.gov.uk)\\xa0↩\\n\\n\\n\\n\\n\\n\\n\\n\\n\\n\\n\\n\\n...    0    2     3  \n",
      ".\\n      \\n\\n        Cancel\\n      \\n\\n\\n\\n\\n\\n...    0    0     0  \n",
      ".0, except where otherwise stated\\n        \\n\\n...    0    0     0  \n",
      "\n",
      "[55 rows x 1242 columns]\n"
     ]
    }
   ],
   "source": [
    "df = pd.DataFrame(\n",
    "   doc_term_matrix,\n",
    "   columns=count_vectorizer.get_feature_names_out(),\n",
    "   index=docs,\n",
    ")\n",
    "print(df)"
   ]
  },
  {
   "cell_type": "code",
   "execution_count": 12,
   "metadata": {},
   "outputs": [
    {
     "data": {
      "text/plain": [
       "55"
      ]
     },
     "execution_count": 12,
     "metadata": {},
     "output_type": "execute_result"
    }
   ],
   "source": [
    "len(docs)"
   ]
  },
  {
   "cell_type": "code",
   "execution_count": 13,
   "metadata": {},
   "outputs": [
    {
     "name": "stdout",
     "output_type": "stream",
     "text": [
      "[[1.         0.19935012 0.09117246 ... 0.33628594 0.08185945 0.24539555]\n",
      " [0.19935012 1.         0.07488746 ... 0.28800922 0.02281286 0.23210354]\n",
      " [0.09117246 0.07488746 1.         ... 0.04852863 0.93214435 0.04888588]\n",
      " ...\n",
      " [0.33628594 0.28800922 0.04852863 ... 1.         0.0459922  0.19218788]\n",
      " [0.08185945 0.02281286 0.93214435 ... 0.0459922  1.         0.0416977 ]\n",
      " [0.24539555 0.23210354 0.04888588 ... 0.19218788 0.0416977  1.        ]]\n"
     ]
    }
   ],
   "source": [
    "matrix = cosine_similarity(df, df)\n",
    "print(cosine_similarity(df, df))"
   ]
  },
  {
   "cell_type": "code",
   "execution_count": 17,
   "metadata": {},
   "outputs": [
    {
     "data": {
      "text/plain": [
       "'.UK\\\\n              \\\\n\\\\n\\\\n\\\\n\\\\n \\\\n \\\\n\\\\n\\\\n\\\\n\\\\n\\\\n                  Services and information\\\\n                \\\\n\\\\n\\\\nBenefits\\\\n\\\\n\\\\nBirths, death, marriages and care\\\\n\\\\n\\\\nBusiness and self-employed\\\\n\\\\n\\\\nChildcare and parenting\\\\n\\\\n\\\\nCitizenship and living in the UK\\\\n\\\\n\\\\nCrime, justice and the law\\\\n\\\\n\\\\nDisabled people\\\\n\\\\n\\\\nDriving and transport\\\\n\\\\n\\\\nEducation and learning\\\\n\\\\n\\\\nEmploying people\\\\n\\\\n\\\\nEnvironment and countryside\\\\n\\\\n\\\\nHousing and local services\\\\n\\\\n\\\\nMoney and tax\\\\n\\\\n\\\\nPassports, travel and living abroad\\\\n\\\\n\\\\nVisas and immigration\\\\n\\\\n\\\\nWorking, jobs and pensions\\\\n\\\\n\\\\n\\\\n\\\\n\\\\n                  Government activity\\\\n                \\\\n\\\\n\\\\nDepartments\\\\nDepartments, agencies and public bodies\\\\n\\\\n\\\\nNews\\\\nNews stories, speeches, letters and notices\\\\n\\\\n\\\\nGuidance and regulation\\\\nDetailed guidance, regulations and rules\\\\n\\\\n\\\\nResearch and statistics\\\\nReports, analysis and official statistics\\\\n\\\\n\\\\nPolicy papers and consultations\\\\nConsultations and strategy\\\\n\\\\n\\\\nTransparency\\\\nData, Freedom of Information releases and corporate reports\\\\n\\\\n\\\\n\\\\n\\\\n\\\\n\\\\n\\\\n\\\\n\\\\n            Search\\\\n          \\\\n\\\\n\\\\n\\\\n\\\\nSearch GOV'"
      ]
     },
     "execution_count": 17,
     "metadata": {},
     "output_type": "execute_result"
    }
   ],
   "source": [
    "docs[2]"
   ]
  },
  {
   "cell_type": "code",
   "execution_count": 16,
   "metadata": {},
   "outputs": [
    {
     "data": {
      "text/plain": [
       "'.\\\\n      \\\\n\\\\n        Cancel\\\\n      \\\\n\\\\n\\\\n\\\\n\\\\n\\\\n\\\\n\\\\n\\\\n\\\\nServices and information\\\\n\\\\n\\\\nBenefits\\\\n\\\\n\\\\nBirths, death, marriages and care\\\\n\\\\n\\\\nBusiness and self-employed\\\\n\\\\n\\\\nChildcare and parenting\\\\n\\\\n\\\\nCitizenship and living in the UK\\\\n\\\\n\\\\nCrime, justice and the law\\\\n\\\\n\\\\nDisabled people\\\\n\\\\n\\\\nDriving and transport\\\\n\\\\n\\\\nEducation and learning\\\\n\\\\n\\\\nEmploying people\\\\n\\\\n\\\\nEnvironment and countryside\\\\n\\\\n\\\\nHousing and local services\\\\n\\\\n\\\\nMoney and tax\\\\n\\\\n\\\\nPassports, travel and living abroad\\\\n\\\\n\\\\nVisas and immigration\\\\n\\\\n\\\\nWorking, jobs and pensions\\\\n\\\\n\\\\n\\\\n\\\\nGovernment activity\\\\n\\\\n\\\\nDepartments\\\\n\\\\n\\\\nNews\\\\n\\\\n\\\\nGuidance and regulation\\\\n\\\\n\\\\nResearch and statistics\\\\n\\\\n\\\\nPolicy papers and consultations\\\\n\\\\n\\\\nTransparency\\\\n\\\\n\\\\nHow government works\\\\n\\\\n\\\\nGet involved\\\\n\\\\n\\\\n\\\\n\\\\n\\\\n\\\\n\\\\nSupport links\\\\n\\\\n\\\\nHelp\\\\n\\\\n\\\\nPrivacy\\\\n\\\\n\\\\nCookies\\\\n\\\\n\\\\nAccessibility statement\\\\n\\\\n\\\\nContact\\\\n\\\\n\\\\nTerms and conditions\\\\n\\\\n\\\\nRhestr o Wasanaethau Cymraeg\\\\n\\\\n\\\\nGovernment Digital Service\\\\n\\\\n\\\\n\\\\n\\\\n\\\\n\\\\n          All content is available under the Open Government Licence v3'"
      ]
     },
     "execution_count": 16,
     "metadata": {},
     "output_type": "execute_result"
    }
   ],
   "source": [
    "docs[53]"
   ]
  },
  {
   "cell_type": "code",
   "execution_count": null,
   "metadata": {},
   "outputs": [],
   "source": []
  }
 ],
 "metadata": {
  "kernelspec": {
   "display_name": ".venv",
   "language": "python",
   "name": "python3"
  },
  "language_info": {
   "codemirror_mode": {
    "name": "ipython",
    "version": 3
   },
   "file_extension": ".py",
   "mimetype": "text/x-python",
   "name": "python",
   "nbconvert_exporter": "python",
   "pygments_lexer": "ipython3",
   "version": "3.11.9"
  }
 },
 "nbformat": 4,
 "nbformat_minor": 2
}
